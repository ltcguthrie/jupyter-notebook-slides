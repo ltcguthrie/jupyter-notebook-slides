{
 "cells": [
  {
   "cell_type": "markdown",
   "metadata": {
    "deletable": true,
    "editable": true,
    "slideshow": {
     "slide_type": "slide"
    }
   },
   "source": [
    "# Systematic mapping of microbial responses to foods and pharmaceuticals by integrating chemical similarity, toxicity and microbial metabolism profiles\n",
    "======================================================================================================================\n",
    "### Lab Meeting  --- July 21, 2017\n",
    "\n",
    "1. Last week/former goals\n",
    "    * create tables for food and drug chemical similarity resource\n",
    "    * link microbial metabolic data to chemical data\n",
    "2. Current goals\n",
    "    * Explore tables to identify potential targets\n",
    "    * Finalize experimental design for validating targets"
   ]
  },
  {
   "cell_type": "markdown",
   "metadata": {
    "deletable": true,
    "editable": true,
    "slideshow": {
     "slide_type": "slide"
    }
   },
   "source": [
    "## Data tables for food and drug chemical similarity resource\n",
    "\n",
    "* Table 1. Compound names and type\n",
    "* Table 2. Compound substructure similarity\n",
    "* Table 3. Compound indications and side effects\n",
    "* Table 4. Pubchem to KEGG compound links\n",
    "* Table 5. Compound to EC number\n",
    "* Table 6. Compound  to RXN\n",
    "* Table 7. Compound names and type"
   ]
  },
  {
   "cell_type": "markdown",
   "metadata": {
    "deletable": true,
    "editable": true,
    "slideshow": {
     "slide_type": "slide"
    }
   },
   "source": [
    "## Interesting Case Studies\n",
    "\n",
    "* Altretamine/Melamine/Metformin\n",
    "* Levodopa\n",
    "* Next Steps: Digoxin;Others"
   ]
  },
  {
   "cell_type": "code",
   "execution_count": 1,
   "metadata": {
    "collapsed": false,
    "deletable": true,
    "editable": true,
    "slideshow": {
     "slide_type": "slide"
    }
   },
   "outputs": [
    {
     "data": {
      "text/html": [
       "\n",
       "        <iframe\n",
       "            width=\"800\"\n",
       "            height=\"800\"\n",
       "            src=\"html/Altretamine_net_group1.html\"\n",
       "            frameborder=\"0\"\n",
       "            allowfullscreen\n",
       "        ></iframe>\n",
       "        "
      ],
      "text/plain": [
       "<IPython.lib.display.IFrame at 0x10ae8fd50>"
      ]
     },
     "execution_count": 1,
     "metadata": {},
     "output_type": "execute_result"
    }
   ],
   "source": [
    "from IPython.display import IFrame\n",
    "IFrame('html/Altretamine_net_group1.html', width=800, height=800)"
   ]
  },
  {
   "cell_type": "code",
   "execution_count": 2,
   "metadata": {
    "collapsed": false,
    "deletable": true,
    "editable": true,
    "slideshow": {
     "slide_type": "slide"
    }
   },
   "outputs": [
    {
     "data": {
      "text/html": [
       "\n",
       "        <iframe\n",
       "            width=\"800\"\n",
       "            height=\"800\"\n",
       "            src=\"html/Metformin_net_toxicity.html\"\n",
       "            frameborder=\"0\"\n",
       "            allowfullscreen\n",
       "        ></iframe>\n",
       "        "
      ],
      "text/plain": [
       "<IPython.lib.display.IFrame at 0x10b2ad210>"
      ]
     },
     "execution_count": 2,
     "metadata": {},
     "output_type": "execute_result"
    }
   ],
   "source": [
    "from IPython.display import IFrame\n",
    "IFrame('html/Metformin_net_toxicity.html', width=800, height=800)"
   ]
  },
  {
   "cell_type": "markdown",
   "metadata": {
    "deletable": true,
    "editable": true,
    "slideshow": {
     "slide_type": "slide"
    }
   },
   "source": [
    "## Microbial enzymes linked to metformin\n",
    "\n",
    "* 3.5.3.16.3,C02294|protein-serine/threonine phosphatase\n",
    "* 3.5.2.10.2,C00791|creatininase\n",
    "* 3.5.4.21.2,C00791|creatinine deaminase\n",
    "* 3.5.4.1.5,C00791| cytosine aminohydrolase"
   ]
  },
  {
   "cell_type": "code",
   "execution_count": 3,
   "metadata": {
    "collapsed": false,
    "deletable": true,
    "editable": true,
    "slideshow": {
     "slide_type": "slide"
    }
   },
   "outputs": [
    {
     "data": {
      "text/html": [
       "\n",
       "        <iframe\n",
       "            width=\"800\"\n",
       "            height=\"800\"\n",
       "            src=\"html/Levodopa_net_group1.html\"\n",
       "            frameborder=\"0\"\n",
       "            allowfullscreen\n",
       "        ></iframe>\n",
       "        "
      ],
      "text/plain": [
       "<IPython.lib.display.IFrame at 0x10b2ad0d0>"
      ]
     },
     "execution_count": 3,
     "metadata": {},
     "output_type": "execute_result"
    }
   ],
   "source": [
    "from IPython.display import IFrame\n",
    "IFrame('html/Levodopa_net_group1.html', width=800, height=800)"
   ]
  },
  {
   "cell_type": "markdown",
   "metadata": {
    "collapsed": true,
    "deletable": true,
    "editable": true,
    "slideshow": {
     "slide_type": "slide"
    }
   },
   "source": [
    "## Drugs clustered with levodopa\n",
    "\n",
    "* 149096|LEVOFLOXACIN\n",
    "* 1548943|Capsaicin\n",
    "* 156391|NAPROXEN\n",
    "* 174174|ATROPINE\n",
    "* 41744|Valrubicin\n",
    "* 6249|ampicillin\n",
    "* 7187|BENZOYL PEROXIDE\n"
   ]
  }
 ],
 "metadata": {
  "celltoolbar": "Slideshow",
  "kernelspec": {
   "display_name": "Python 2",
   "language": "python",
   "name": "python2"
  },
  "language_info": {
   "codemirror_mode": {
    "name": "ipython",
    "version": 2
   },
   "file_extension": ".py",
   "mimetype": "text/x-python",
   "name": "python",
   "nbconvert_exporter": "python",
   "pygments_lexer": "ipython2",
   "version": "2.7.11"
  }
 },
 "nbformat": 4,
 "nbformat_minor": 2
}
